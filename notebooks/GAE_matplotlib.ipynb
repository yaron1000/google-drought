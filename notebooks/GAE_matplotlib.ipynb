{
 "metadata": {
  "name": "GAE with matplotlib"
 },
 "nbformat": 3,
 "nbformat_minor": 0,
 "worksheets": [
  {
   "cells": [
    {
     "cell_type": "heading",
     "level": 3,
     "metadata": {},
     "source": "How to get matplotlib running on the GAE development server?"
    },
    {
     "cell_type": "markdown",
     "metadata": {},
     "source": "Per this discussion, it seems that matplotlib is running on the production server since March 2013.<br /><br /:w!>\n<a target=\"_blank\" href=\"https://github.com/matplotlib/matplotlib/issues/1823/\">https://github.com/matplotlib/matplotlib/issues/1823/</a>\n<br /><br />\nRegarding matplotlib on the development server, Matt writes:\n<div style=\"background-color:#A8A8A8;width:600px;\">\nHowever, the development server runs unmodified code for third-party libraries.<br />\nThe current version of Matplotlib (tested with 9690232 as of 14-03-2013) crashes if \"import matplotlib\" is run on the dev appserver.<br />\nThis is just one of the issues (fix that one, and more spring up). There are three major blockers:<br />\n<ul>\n    <li>Matplotlib expects the user to have a writable $HOME directory, so it will not work in any environment where the user does not have a home directory, or where there is a non-writable file system.</li>\n    \n    <li>App Engine does provide a subprocess module, but it is empty. Therefore, any attempt to use subprocess.Popen on App Engine results in AttributeError being raised.</li>\n\n    <li>The ps backend writes to a temporary file, then reads it back in, even when not using an external distiller. This will not work in any environment where there is a non-writable file system.</li>\n</ul>\n\nWe (the Google App Engine Python team) have patched these three issues to get Matplotlib working in our production environment. We propose sending these patches upstream so that Matplotlib will work out-of-the-box on App Engine and other restricted environments which ban file writing and use of subprocess.\n</div>\n\n\n"
    },
    {
     "cell_type": "markdown",
     "metadata": {},
     "source": "However, this never happened. I contacted Matt to see if there was an update on this issue. He responded:\n<p style=\"background-color:#A8A8A8;width:600px\">\nUnfortunately, there was an internal shuffle at Google shortly after matplotlib was launched, which has resulted in the project being unmaintained. I no longer work on App Engine, and I don't think any work has been done on this since I left.\n</p>"
    },
    {
     "cell_type": "markdown",
     "metadata": {},
     "source": "After some online digging, I found this link with a workaround:\n<a target=\"_blank\" href=\"http://code.activestate.com/recipes/578393-gae-matplotlib-demo/\">http://code.activestate.com/recipes/578393-gae-matplotlib-demo/</a>"
    },
    {
     "cell_type": "markdown",
     "metadata": {},
     "source": "Unfortunately, this approach did not work for me. Here are all the steps that I followed:<br />\n1. I copied this code into my application directory and saved it as main.py "
    },
    {
     "cell_type": "code",
     "collapsed": false,
     "input": "#!/usr/bin/python\nimport logging\ntry:\n    import webapp2\nexcept:\n    logging.exception(\"no webapp\")\nimport pprint\nimport os\nimport StringIO\nos.environ[\"MATPLOTLIBDATA\"] = os.getcwdu()\nos.environ[\"MPLCONFIGDIR\"] = os.getcwdu()\nimport subprocess\ndef no_popen(*args, **kwargs): raise OSError(\"forbjudet\")\nsubprocess.Popen = no_popen\nsubprocess.PIPE = None\nsubprocess.STDOUT = None\nlogging.warn(\"E: %s\" % pprint.pformat(os.environ))\ntry:\n    import numpy, matplotlib, matplotlib.pyplot as plt\nexcept:\n    logging.exception(\"trouble\")\n\ndef dynamic_png():\n    try:\n        plt.title(\"Dynamic PNG\")\n        for i in range(5): plt.plot(sorted(numpy.random.randn(25)))\n        rv = StringIO.StringIO()\n        plt.savefig(rv, format=\"png\")\n        plt.clf()\n        return \"\"\"<img src=\"data:image/png;base64,%s\"/>\"\"\" % rv.getvalue().encode(\"base64\").strip()\n    finally:\n        plt.clf()\n\ndef dynamic_svg():\n    try:\n        plt.title(\"Dynamic SVG\")\n        for i in range(5): plt.plot(sorted(numpy.random.randn(25)))\n        rv = StringIO.StringIO()\n        plt.savefig(rv, format=\"svg\")\n        return rv.getvalue()\n    finally:\n        plt.clf()\n\nif __name__ == \"__main__\":\n    print dynamic_png()\n    print dynamic_svg()\nelse:\n    class MainHandler(webapp2.RequestHandler):\n        def get(self):\n            self.response.write(\"\"\"<html><head/><body>\"\"\")\n            self.response.write(dynamic_png())\n            self.response.write(dynamic_svg())\n            self.response.write(\"\"\"</body> </html>\"\"\")\n\n    app = webapp2.WSGIApplication([\n        ('/', MainHandler)\n    ], debug=True)",
     "language": "python",
     "metadata": {},
     "outputs": []
    },
    {
     "cell_type": "markdown",
     "metadata": {},
     "source": "Step 1: I found my local matplotlib installation:"
    },
    {
     "cell_type": "code",
     "collapsed": false,
     "input": "python\n>>> import matplotlib\n>>> python\n>>> import matplotlib\n>>> matplotlib.matplotlib_fname()\n'/opt/local/Library/Frameworks/Python.framework/Versions/Current/lib/python2.7/site-packages/matplotlib/mpl-data/matplotlibrc'\n",
     "language": "python",
     "metadata": {},
     "outputs": []
    },
    {
     "cell_type": "markdown",
     "metadata": {},
     "source": "Step2:  I copied the content of mpl-data into my application directory"
    },
    {
     "cell_type": "code",
     "collapsed": false,
     "input": "cd application_directory\ncp -r /opt/local/Library/Frameworks/Python.framework/Versions/Current/lib/python2.7/site-packages/matplotlib/mpl-data ./",
     "language": "python",
     "metadata": {},
     "outputs": []
    },
    {
     "cell_type": "markdown",
     "metadata": {},
     "source": "Note the two extra steps that Matt mentions in the comments below the post:\n\n<div style=\"background-color:#A8A8A8;width:600px\">\n<ol>\n    <li>You also need to edit matplotlibrc in the app directory, and change backend from GTKAgg to Agg.</li>\n    <li>You need to run python main.py first, i.e., just run the script directly in Python, NOT in the dev appserver. After you have done that once, you can run it in the dev appserver.</li>\n</ol>\n</div>\n"
    },
    {
     "cell_type": "markdown",
     "metadata": {},
     "source": "Step 3: Changed the backend in matplotlibrc to Agg"
    },
    {
     "cell_type": "code",
     "collapsed": false,
     "input": "#backend      : MacOSX\nbackend      : Agg",
     "language": "python",
     "metadata": {},
     "outputs": []
    },
    {
     "cell_type": "markdown",
     "metadata": {},
     "source": "Step 4: Ran main.py from commandline"
    },
    {
     "cell_type": "code",
     "collapsed": false,
     "input": "python main.py",
     "language": "python",
     "metadata": {},
     "outputs": []
    },
    {
     "cell_type": "markdown",
     "metadata": {},
     "source": "Step 5: Deployed code on localhost"
    },
    {
     "cell_type": "code",
     "collapsed": false,
     "input": "Internal Server Error\n\nThe server has either erred or is incapable of performing the requested operation.\n\nTraceback (most recent call last):\n  File \"/Applications/GoogleAppEngineLauncher.app/Contents/Resources/GoogleAppEngine-default.bundle/Contents/Resources/google_appengine/lib/webapp2-2.5.2/webapp2.py\", line 1535, in __call__\n    rv = self.handle_exception(request, response, e)\n  File \"/Applications/GoogleAppEngineLauncher.app/Contents/Resources/GoogleAppEngine-default.bundle/Contents/Resources/google_appengine/lib/webapp2-2.5.2/webapp2.py\", line 1529, in __call__\n    rv = self.router.dispatch(request, response)\n  File \"/Applications/GoogleAppEngineLauncher.app/Contents/Resources/GoogleAppEngine-default.bundle/Contents/Resources/google_appengine/lib/webapp2-2.5.2/webapp2.py\", line 1278, in default_dispatcher\n    return route.handler_adapter(request, response)\n  File \"/Applications/GoogleAppEngineLauncher.app/Contents/Resources/GoogleAppEngine-default.bundle/Contents/Resources/google_appengine/lib/webapp2-2.5.2/webapp2.py\", line 1102, in __call__\n    return handler.dispatch()\n  File \"/Applications/GoogleAppEngineLauncher.app/Contents/Resources/GoogleAppEngine-default.bundle/Contents/Resources/google_appengine/lib/webapp2-2.5.2/webapp2.py\", line 572, in dispatch\n    return self.handle_exception(e, self.app.debug)\n  File \"/Applications/GoogleAppEngineLauncher.app/Contents/Resources/GoogleAppEngine-default.bundle/Contents/Resources/google_appengine/lib/webapp2-2.5.2/webapp2.py\", line 570, in dispatch\n    return method(*args, **kwargs)\n  File \"/Users/bdaudert/Google/applications/gridmet_ppt_anomaly/ee_appengine.py\", line 51, in get\n    self.response.write(dynamic_png())\n  File \"/Users/bdaudert/Google/applications/gridmet_ppt_anomaly/ee_appengine.py\", line 32, in dynamic_png\n    plt.clf()\nNameError: global name 'plt' is not defined",
     "language": "python",
     "metadata": {},
     "outputs": []
    }
   ],
   "metadata": {}
  }
 ]
}